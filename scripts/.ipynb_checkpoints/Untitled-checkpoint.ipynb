{
 "cells": [
  {
   "cell_type": "markdown",
   "id": "2470260a-0262-432e-b535-b461ce9229a8",
   "metadata": {},
   "source": [
    "# What do I want to do?\n",
    "- I want to train to machine learning algorithms to classify satellite imagery pixels that are turf grass\n",
    "- One model will be trained on an segmented image using sci-kit segementation tools\n",
    "- The other model will be trained on NDVI data\n",
    "  \n",
    "- I want to then compare the accuracy of the two models\n",
    "- I then want to use then use the most accurate model to quantify areas of missoula that are lawn, and potentially quantify the proportion of total NDVI in missoula that is turf grass"
   ]
  },
  {
   "cell_type": "markdown",
   "id": "a58819e3-d459-4588-9b5e-46f77be81e96",
   "metadata": {},
   "source": [
    "# First steps\n",
    "## 1. "
   ]
  },
  {
   "cell_type": "code",
   "execution_count": null,
   "id": "c8fb771c-7fe1-4d23-9a88-507b1d3d3840",
   "metadata": {},
   "outputs": [],
   "source": []
  },
  {
   "cell_type": "code",
   "execution_count": null,
   "id": "3547cbbe-b40f-4d0d-b40a-ba88f54c94ad",
   "metadata": {},
   "outputs": [],
   "source": []
  },
  {
   "cell_type": "code",
   "execution_count": null,
   "id": "30e02164-297f-42ea-862f-618fd792eb00",
   "metadata": {},
   "outputs": [],
   "source": []
  },
  {
   "cell_type": "code",
   "execution_count": null,
   "id": "028d94bb-79ba-43af-b156-7d94f55020d2",
   "metadata": {},
   "outputs": [],
   "source": []
  },
  {
   "cell_type": "code",
   "execution_count": null,
   "id": "6220e40b-daf9-4b3b-9767-33ac70ea6adf",
   "metadata": {},
   "outputs": [],
   "source": []
  },
  {
   "cell_type": "code",
   "execution_count": null,
   "id": "9635a95b-9478-4ce4-b2b4-c06217e57eb5",
   "metadata": {},
   "outputs": [],
   "source": []
  },
  {
   "cell_type": "code",
   "execution_count": null,
   "id": "dacbd725-fb4b-4b3b-b430-f557287b8eae",
   "metadata": {},
   "outputs": [],
   "source": []
  },
  {
   "cell_type": "code",
   "execution_count": null,
   "id": "dafb47d7-4aa3-4ac9-84f4-06b41b5d2cb0",
   "metadata": {},
   "outputs": [],
   "source": []
  },
  {
   "cell_type": "code",
   "execution_count": null,
   "id": "60f2e653-1a86-4ecc-8079-b8d70535fc36",
   "metadata": {},
   "outputs": [],
   "source": []
  }
 ],
 "metadata": {
  "kernelspec": {
   "display_name": "Python 3 (ipykernel)",
   "language": "python",
   "name": "python3"
  },
  "language_info": {
   "codemirror_mode": {
    "name": "ipython",
    "version": 3
   },
   "file_extension": ".py",
   "mimetype": "text/x-python",
   "name": "python",
   "nbconvert_exporter": "python",
   "pygments_lexer": "ipython3",
   "version": "3.9.18"
  }
 },
 "nbformat": 4,
 "nbformat_minor": 5
}
